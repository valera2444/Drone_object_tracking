{
 "cells": [
  {
   "cell_type": "code",
   "execution_count": null,
   "id": "2a1f4312",
   "metadata": {},
   "outputs": [],
   "source": [
    "%load_ext autoreload\n",
    "%autoreload 2\n"
   ]
  },
  {
   "cell_type": "code",
   "execution_count": null,
   "id": "f80268c7",
   "metadata": {},
   "outputs": [],
   "source": [
    "import torchreid\n"
   ]
  },
  {
   "cell_type": "code",
   "execution_count": null,
   "id": "996d04db",
   "metadata": {},
   "outputs": [],
   "source": [
    "from torchreid.data.datasets.video.VisDroneChilds.VisDroneChild_uav0000013_00000_v import VisDroneChild_uav0000013_00000_v\n",
    "torchreid.data.register_video_dataset('VisDroneChild_uav0000013_00000_v', VisDroneChild_uav0000013_00000_v)"
   ]
  },
  {
   "cell_type": "code",
   "execution_count": null,
   "id": "3c9662cc",
   "metadata": {},
   "outputs": [],
   "source": [
    "from torchreid.data.datasets.video.VisDroneChilds.VisDroneChild_uav0000013_01073_v import VisDroneChild_uav0000013_01073_v\n",
    "torchreid.data.register_video_dataset('VisDroneChild_uav0000013_01073_v', VisDroneChild_uav0000013_01073_v)\n"
   ]
  },
  {
   "cell_type": "code",
   "execution_count": null,
   "id": "0e88f4a1",
   "metadata": {},
   "outputs": [],
   "source": [
    "\n",
    "from torchreid.data.datasets.video.VisDroneChilds.VisDroneChild_uav0000086_00000_v import VisDroneChild_uav0000086_00000_v\n",
    "torchreid.data.register_video_dataset('VisDroneChild_uav0000086_00000_v', VisDroneChild_uav0000086_00000_v)\n"
   ]
  },
  {
   "cell_type": "code",
   "execution_count": null,
   "id": "ce692ab2",
   "metadata": {},
   "outputs": [],
   "source": [
    "\n",
    "from torchreid.data.datasets.video.VisDroneChilds.VisDroneChild_uav0000086_00000_v import VisDroneChild_uav0000086_00000_v\n",
    "torchreid.data.register_video_dataset('VisDroneChild_uav0000086_00000_v', VisDroneChild_uav0000086_00000_v)\n"
   ]
  },
  {
   "cell_type": "code",
   "execution_count": null,
   "id": "5d3c64e3",
   "metadata": {
    "scrolled": true
   },
   "outputs": [],
   "source": [
    "datamanager = torchreid.data.VideoDataManager(\n",
    "    root='D:\\\\Drone_object_tracking\\\\reid-data\\\\VisDrone2019-MOT-val',\n",
    "    sources=['VisDroneChild_uav0000086_00000_v'],\n",
    "    targets = ['VisDroneChild_uav0000086_00000_v'],\n",
    "    height = 256,    #resizes images to this\n",
    "    width=128,\n",
    "    batch_size_train = 18,    #how many tracklets in a batch\n",
    "    batch_size_test =18,    #how many tracklets in a batch\n",
    "    seq_len = 2,    # how many frmaes in a tracklet\n",
    "    num_instances = 3,    #how many tracklets per id in a batch\n",
    "    train_sampler='CustomDatasetSampler'\n",
    ")"
   ]
  },
  {
   "cell_type": "code",
   "execution_count": null,
   "id": "38e23b0f",
   "metadata": {},
   "outputs": [],
   "source": [
    "model = torchreid.models.build_model(\n",
    "    name='osnet_ain_x0_25',\n",
    "    num_classes=datamanager.max_train_pid+1,#КОСТЫЛЬ, возможно)\n",
    "    loss='triplet',\n",
    "    pretrained=False\n",
    "    \n",
    ")\n",
    "model = model.cuda()\n",
    "optimizer = torchreid.optim.build_optimizer(\n",
    "    model, optim='adam', lr=0.0003\n",
    ")\n",
    "scheduler = torchreid.optim.build_lr_scheduler(\n",
    "    optimizer,\n",
    "    lr_scheduler='single_step',\n",
    "    stepsize=300,\n",
    "    gamma = 1\n",
    ")\n"
   ]
  },
  {
   "cell_type": "code",
   "execution_count": null,
   "id": "bd033437",
   "metadata": {},
   "outputs": [],
   "source": [
    "engine = torchreid.engine.VideoTripletEngine(\n",
    "    datamanager, model,optimizer,margin=100, weight_t=1, weight_x=0,scheduler=scheduler,\n",
    "    pooling_method='avg'\n",
    ")"
   ]
  },
  {
   "cell_type": "code",
   "execution_count": null,
   "id": "61b4c901",
   "metadata": {},
   "outputs": [],
   "source": [
    "engine = torchreid.engine.VideoSoftmaxEngine(\n",
    "    datamanager, model,optimizer,scheduler=scheduler,\n",
    "    pooling_method='avg'\n",
    ")"
   ]
  },
  {
   "cell_type": "code",
   "execution_count": null,
   "id": "d88a1991",
   "metadata": {},
   "outputs": [],
   "source": [
    "\n",
    "\n",
    "engine.run(\n",
    "    max_epoch=150,\n",
    "    save_dir='log/osnet_ain_x0_25-triplet-visdrone',\n",
    "    print_freq=5,  #if (self.batch_idx + 1) % print_freq == 0:, where for self.batch_idx, data in enumerate(self.train_loader):\n",
    "    eval_freq=15\n",
    "    #start_epoch=start_epoch,\n",
    "    #test_only=True\n",
    "    #visrank=True\n",
    "    #start_epoch=start_epoch,\n",
    "    \n",
    ")\n",
    "#loss_t - triplet loss\n",
    "#loss_x - cross entropy loss\n",
    "#validation on same as training - 100% results\n",
    "#sampler selects tracklets to batches??\n",
    "\"\"\" used like:\n",
    "self.train_loader = torch.utils.data.DataLoader(\n",
    "            trainset,\n",
    "            sampler=build_train_sampler(\n",
    "                trainset.train,\n",
    "                train_sampler,\n",
    "                batch_size=batch_size_train,\n",
    "                num_instances=num_instances,\n",
    "                num_cams=num_cams,\n",
    "                num_datasets=num_datasets\n",
    "            ),\n",
    "            ...\n",
    "        )\n",
    "\"\"\"\n",
    "\n",
    "\"\"\"\n",
    "Если вообще не учить перед валидацией - 95+\n",
    "Если хотябы одну эпоху на любом датасете будет хуже\n",
    "В QUERY и GALLERY одну и тоже может попасть\n",
    "\"\"\"\n",
    "#HARD MINE YRIPLET LOSS distAP not considered\n"
   ]
  },
  {
   "cell_type": "code",
   "execution_count": null,
   "id": "4b23da50",
   "metadata": {},
   "outputs": [],
   "source": []
  },
  {
   "cell_type": "code",
   "execution_count": null,
   "id": "05ad8922",
   "metadata": {},
   "outputs": [],
   "source": []
  }
 ],
 "metadata": {
  "kernelspec": {
   "display_name": "Python 3 (ipykernel)",
   "language": "python",
   "name": "python3"
  },
  "language_info": {
   "codemirror_mode": {
    "name": "ipython",
    "version": 3
   },
   "file_extension": ".py",
   "mimetype": "text/x-python",
   "name": "python",
   "nbconvert_exporter": "python",
   "pygments_lexer": "ipython3",
   "version": "3.11.4"
  }
 },
 "nbformat": 4,
 "nbformat_minor": 5
}
